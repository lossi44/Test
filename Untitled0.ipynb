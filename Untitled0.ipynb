{
  "nbformat": 4,
  "nbformat_minor": 0,
  "metadata": {
    "colab": {
      "name": "Untitled0.ipynb",
      "provenance": [],
      "include_colab_link": true
    },
    "kernelspec": {
      "name": "python3",
      "display_name": "Python 3"
    },
    "accelerator": "GPU"
  },
  "cells": [
    {
      "cell_type": "markdown",
      "metadata": {
        "id": "view-in-github",
        "colab_type": "text"
      },
      "source": [
        "<a href=\"https://colab.research.google.com/github/lossi44/Test/blob/master/Untitled0.ipynb\" target=\"_parent\"><img src=\"https://colab.research.google.com/assets/colab-badge.svg\" alt=\"Open In Colab\"/></a>"
      ]
    },
    {
      "cell_type": "code",
      "metadata": {
        "id": "CeGWfS1396Yk",
        "colab_type": "code",
        "outputId": "af370930-ea63-4c1c-e880-8b98bce5091a",
        "colab": {
          "base_uri": "https://localhost:8080/",
          "height": 33
        }
      },
      "source": [
        "!ls"
      ],
      "execution_count": 0,
      "outputs": [
        {
          "output_type": "stream",
          "text": [
            "sample_data\n"
          ],
          "name": "stdout"
        }
      ]
    },
    {
      "cell_type": "code",
      "metadata": {
        "id": "2L0eYJbF99Dn",
        "colab_type": "code",
        "outputId": "fb1fb6a5-6813-4cdf-9265-a16ba041ee57",
        "colab": {
          "base_uri": "https://localhost:8080/",
          "height": 131
        }
      },
      "source": [
        "!git clone https://github.com/egome007/final_project.git"
      ],
      "execution_count": 0,
      "outputs": [
        {
          "output_type": "stream",
          "text": [
            "Cloning into 'final_project'...\n",
            "remote: Enumerating objects: 35, done.\u001b[K\n",
            "remote: Counting objects: 100% (35/35), done.\u001b[K\n",
            "remote: Compressing objects: 100% (35/35), done.\u001b[K\n",
            "remote: Total 315 (delta 21), reused 0 (delta 0), pack-reused 280\u001b[K\n",
            "Receiving objects: 100% (315/315), 54.88 MiB | 21.19 MiB/s, done.\n",
            "Resolving deltas: 100% (58/58), done.\n"
          ],
          "name": "stdout"
        }
      ]
    },
    {
      "cell_type": "code",
      "metadata": {
        "id": "MjB6bQz7-C3h",
        "colab_type": "code",
        "outputId": "d4b14f30-8992-4ab4-dc78-0f9bbaa68ebb",
        "colab": {
          "base_uri": "https://localhost:8080/",
          "height": 33
        }
      },
      "source": [
        "%ls"
      ],
      "execution_count": 0,
      "outputs": [
        {
          "output_type": "stream",
          "text": [
            "\u001b[0m\u001b[01;34mfinal_project\u001b[0m/  \u001b[01;34msample_data\u001b[0m/\n"
          ],
          "name": "stdout"
        }
      ]
    },
    {
      "cell_type": "code",
      "metadata": {
        "id": "YfdFAMkD-Fdm",
        "colab_type": "code",
        "outputId": "3ab5dbe0-765d-4c82-f82f-62f16770e173",
        "colab": {
          "base_uri": "https://localhost:8080/",
          "height": 33
        }
      },
      "source": [
        "cd final_project/"
      ],
      "execution_count": 0,
      "outputs": [
        {
          "output_type": "stream",
          "text": [
            "/content/final_project\n"
          ],
          "name": "stdout"
        }
      ]
    },
    {
      "cell_type": "code",
      "metadata": {
        "id": "93ROrbMJ-Ivk",
        "colab_type": "code",
        "outputId": "1c49a5de-64ff-44e5-9d97-94c6d1b4537a",
        "colab": {
          "base_uri": "https://localhost:8080/",
          "height": 82
        }
      },
      "source": [
        "ls"
      ],
      "execution_count": 0,
      "outputs": [
        {
          "output_type": "stream",
          "text": [
            "Craftsman_Style_Resize.zip  Rename.ipynb\n",
            "\u001b[0m\u001b[01;34mHome_Site\u001b[0m/                  Spanish_Mediterranean_Resized.zip\n",
            "\u001b[01;34mNehemias_Folder\u001b[0m/            Tudor_Style_Home.zip\n",
            "README.md                   Victorian_Style_Resize.zip\n"
          ],
          "name": "stdout"
        }
      ]
    },
    {
      "cell_type": "code",
      "metadata": {
        "id": "JkE0hbQa-KgP",
        "colab_type": "code",
        "outputId": "bf8369d8-0718-4f7c-99b3-4008571f6ab8",
        "colab": {
          "base_uri": "https://localhost:8080/",
          "height": 33
        }
      },
      "source": [
        "cd Nehemias_Folder/"
      ],
      "execution_count": 0,
      "outputs": [
        {
          "output_type": "stream",
          "text": [
            "/content/final_project/Nehemias_Folder\n"
          ],
          "name": "stdout"
        }
      ]
    },
    {
      "cell_type": "code",
      "metadata": {
        "id": "ZiA5aGHq-Lue",
        "colab_type": "code",
        "outputId": "2e2884f5-0d5b-448e-b038-7ced4ec3a387",
        "colab": {
          "base_uri": "https://localhost:8080/",
          "height": 33
        }
      },
      "source": [
        "ls"
      ],
      "execution_count": 0,
      "outputs": [
        {
          "output_type": "stream",
          "text": [
            "Final_Model.ipynb  Practice_Model.ipynb  \u001b[0m\u001b[01;34mTudor_Style_Home\u001b[0m/\n"
          ],
          "name": "stdout"
        }
      ]
    },
    {
      "cell_type": "code",
      "metadata": {
        "id": "eG-y3jlH-Mg1",
        "colab_type": "code",
        "outputId": "41d1cda1-6c62-4281-d891-ff59ec735fc9",
        "colab": {
          "base_uri": "https://localhost:8080/",
          "height": 391
        }
      },
      "source": [
        ""
      ],
      "execution_count": 0,
      "outputs": [
        {
          "output_type": "stream",
          "text": [
            "/usr/local/lib/python2.7/dist-packages/IPython/utils/traitlets.py:5: UserWarning: IPython.utils.traitlets has moved to a top-level traitlets package.\n",
            "  warn(\"IPython.utils.traitlets has moved to a top-level traitlets package.\")\n",
            "Traceback (most recent call last):\n",
            "  File \"/usr/local/bin/jupyter-notebook\", line 8, in <module>\n",
            "    sys.exit(main())\n",
            "  File \"/usr/local/lib/python2.7/dist-packages/jupyter_core/application.py\", line 267, in launch_instance\n",
            "    return super(JupyterApp, cls).launch_instance(argv=argv, **kwargs)\n",
            "  File \"/usr/local/lib/python2.7/dist-packages/traitlets/config/application.py\", line 657, in launch_instance\n",
            "    app.initialize(argv)\n",
            "  File \"</usr/local/lib/python2.7/dist-packages/decorator.pyc:decorator-gen-7>\", line 2, in initialize\n",
            "  File \"/usr/local/lib/python2.7/dist-packages/traitlets/config/application.py\", line 87, in catch_config_error\n",
            "    return method(app, *args, **kwargs)\n",
            "  File \"/usr/local/lib/python2.7/dist-packages/notebook/notebookapp.py\", line 1368, in initialize\n",
            "    self.init_webapp()\n",
            "  File \"/usr/local/lib/python2.7/dist-packages/notebook/notebookapp.py\", line 1188, in init_webapp\n",
            "    self.http_server.listen(port, self.ip)\n",
            "  File \"/usr/local/lib/python2.7/dist-packages/tornado/tcpserver.py\", line 142, in listen\n",
            "    sockets = bind_sockets(port, address=address)\n",
            "  File \"/usr/local/lib/python2.7/dist-packages/tornado/netutil.py\", line 197, in bind_sockets\n",
            "    sock.bind(sockaddr)\n",
            "  File \"/usr/lib/python2.7/socket.py\", line 228, in meth\n",
            "    return getattr(self._sock,name)(*args)\n",
            "socket.error: [Errno 99] Cannot assign requested address\n"
          ],
          "name": "stdout"
        }
      ]
    },
    {
      "cell_type": "code",
      "metadata": {
        "id": "eYZiKH-e-eTW",
        "colab_type": "code",
        "outputId": "d73506de-6eac-4498-8a2b-2b853adf81a6",
        "colab": {
          "base_uri": "https://localhost:8080/",
          "height": 61
        }
      },
      "source": [
        "import matplotlib.pyplot as plt\n",
        "%matplotlib inline\n",
        "\n",
        "from IPython.display import Image, SVG\n",
        "import matplotlib.pyplot as plt\n",
        "import numpy as np\n",
        "np.random.seed(0)\n",
        "\n",
        "\n",
        "import os\n",
        "import numpy as np\n",
        "import tensorflow as tf\n",
        "\n",
        "from tensorflow import keras\n",
        "from tensorflow.keras.preprocessing import image\n",
        "from tensorflow.keras.utils import to_categorical\n",
        "from tensorflow.keras.layers import Dense, Dropout, Flatten\n",
        "from tensorflow.keras.models import Model\n",
        "from tensorflow.keras.applications.vgg19 import (\n",
        "    VGG19, \n",
        "    preprocess_input, \n",
        "    decode_predictions\n",
        ")\n"
      ],
      "execution_count": 0,
      "outputs": [
        {
          "output_type": "display_data",
          "data": {
            "text/html": [
              "<p style=\"color: red;\">\n",
              "The default version of TensorFlow in Colab will soon switch to TensorFlow 2.x.<br>\n",
              "We recommend you <a href=\"https://www.tensorflow.org/guide/migrate\" target=\"_blank\">upgrade</a> now \n",
              "or ensure your notebook will continue to use TensorFlow 1.x via the <code>%tensorflow_version 1.x</code> magic:\n",
              "<a href=\"https://colab.research.google.com/notebooks/tensorflow_version.ipynb\" target=\"_blank\">more info</a>.</p>\n"
            ],
            "text/plain": [
              "<IPython.core.display.HTML object>"
            ]
          },
          "metadata": {
            "tags": []
          }
        }
      ]
    },
    {
      "cell_type": "code",
      "metadata": {
        "colab_type": "code",
        "id": "LY5a7VBoHjP2",
        "colab": {}
      },
      "source": [
        "\n",
        "#Load the model VGG19\n",
        "model = VGG19(include_top=True, weights='imagenet')\n"
      ],
      "execution_count": 0,
      "outputs": []
    },
    {
      "cell_type": "code",
      "metadata": {
        "colab_type": "code",
        "id": "jCiXE02OHq8H",
        "colab": {}
      },
      "source": [
        "\n",
        "base_model = VGG19(include_top=True, weights='imagenet')\n",
        "base_model_hidden_outputs = base_model.layers[-4].output\n",
        "# early_skip = base_model.layers[-10].output\n",
        "x = Dense(2056, activation='elu', kernel_initializer='he_normal', name='my_fc1')(base_model_hidden_outputs)\n",
        "x = Dense(1024, activation='elu', kernel_initializer='he_normal', name='my_fc2')(x)\n",
        "x = Dense(512, activation='elu', kernel_initializer='he_normal', name='my_fc3')(x)\n",
        "# x_skip = Dense(2056, activation='selu', kernel_initializer='he_uniform', name='my_skip')(early_skip)\n",
        "# x_skip = keras.layers.Reshape((402976,))(x_skip)\n",
        "# x = keras.layers.concatenate([x, x_skip])\n",
        "x = Dense(3, activation='softmax', name='house_predictions')(x)\n",
        "model1 = Model(inputs=base_model.inputs, outputs=[x])\n"
      ],
      "execution_count": 0,
      "outputs": []
    },
    {
      "cell_type": "code",
      "metadata": {
        "id": "L8DY4sppHsr_",
        "colab_type": "code",
        "outputId": "3176b4d9-f9fa-4ece-9800-edb5ab9e9eb4",
        "colab": {
          "base_uri": "https://localhost:8080/",
          "height": 1000
        }
      },
      "source": [
        "\n",
        "model1.summary()\n"
      ],
      "execution_count": 0,
      "outputs": [
        {
          "output_type": "stream",
          "text": [
            "Model: \"model_1\"\n",
            "_________________________________________________________________\n",
            "Layer (type)                 Output Shape              Param #   \n",
            "=================================================================\n",
            "input_4 (InputLayer)         [(None, 224, 224, 3)]     0         \n",
            "_________________________________________________________________\n",
            "block1_conv1 (Conv2D)        (None, 224, 224, 64)      1792      \n",
            "_________________________________________________________________\n",
            "block1_conv2 (Conv2D)        (None, 224, 224, 64)      36928     \n",
            "_________________________________________________________________\n",
            "block1_pool (MaxPooling2D)   (None, 112, 112, 64)      0         \n",
            "_________________________________________________________________\n",
            "block2_conv1 (Conv2D)        (None, 112, 112, 128)     73856     \n",
            "_________________________________________________________________\n",
            "block2_conv2 (Conv2D)        (None, 112, 112, 128)     147584    \n",
            "_________________________________________________________________\n",
            "block2_pool (MaxPooling2D)   (None, 56, 56, 128)       0         \n",
            "_________________________________________________________________\n",
            "block3_conv1 (Conv2D)        (None, 56, 56, 256)       295168    \n",
            "_________________________________________________________________\n",
            "block3_conv2 (Conv2D)        (None, 56, 56, 256)       590080    \n",
            "_________________________________________________________________\n",
            "block3_conv3 (Conv2D)        (None, 56, 56, 256)       590080    \n",
            "_________________________________________________________________\n",
            "block3_conv4 (Conv2D)        (None, 56, 56, 256)       590080    \n",
            "_________________________________________________________________\n",
            "block3_pool (MaxPooling2D)   (None, 28, 28, 256)       0         \n",
            "_________________________________________________________________\n",
            "block4_conv1 (Conv2D)        (None, 28, 28, 512)       1180160   \n",
            "_________________________________________________________________\n",
            "block4_conv2 (Conv2D)        (None, 28, 28, 512)       2359808   \n",
            "_________________________________________________________________\n",
            "block4_conv3 (Conv2D)        (None, 28, 28, 512)       2359808   \n",
            "_________________________________________________________________\n",
            "block4_conv4 (Conv2D)        (None, 28, 28, 512)       2359808   \n",
            "_________________________________________________________________\n",
            "block4_pool (MaxPooling2D)   (None, 14, 14, 512)       0         \n",
            "_________________________________________________________________\n",
            "block5_conv1 (Conv2D)        (None, 14, 14, 512)       2359808   \n",
            "_________________________________________________________________\n",
            "block5_conv2 (Conv2D)        (None, 14, 14, 512)       2359808   \n",
            "_________________________________________________________________\n",
            "block5_conv3 (Conv2D)        (None, 14, 14, 512)       2359808   \n",
            "_________________________________________________________________\n",
            "block5_conv4 (Conv2D)        (None, 14, 14, 512)       2359808   \n",
            "_________________________________________________________________\n",
            "block5_pool (MaxPooling2D)   (None, 7, 7, 512)         0         \n",
            "_________________________________________________________________\n",
            "flatten (Flatten)            (None, 25088)             0         \n",
            "_________________________________________________________________\n",
            "my_fc1 (Dense)               (None, 2056)              51582984  \n",
            "_________________________________________________________________\n",
            "my_fc2 (Dense)               (None, 1024)              2106368   \n",
            "_________________________________________________________________\n",
            "my_fc3 (Dense)               (None, 512)               524800    \n",
            "_________________________________________________________________\n",
            "house_predictions (Dense)    (None, 3)                 1539      \n",
            "=================================================================\n",
            "Total params: 74,240,075\n",
            "Trainable params: 74,240,075\n",
            "Non-trainable params: 0\n",
            "_________________________________________________________________\n"
          ],
          "name": "stdout"
        }
      ]
    },
    {
      "cell_type": "code",
      "metadata": {
        "id": "9DPBatkQIAw_",
        "colab_type": "code",
        "outputId": "c2660413-7d7e-4ae6-da3c-959b2c34c5b6",
        "colab": {
          "base_uri": "https://localhost:8080/",
          "height": 33
        }
      },
      "source": [
        "from google.colab import drive\n",
        "drive.mount('/content/gdrive')"
      ],
      "execution_count": 0,
      "outputs": [
        {
          "output_type": "stream",
          "text": [
            "Drive already mounted at /content/gdrive; to attempt to forcibly remount, call drive.mount(\"/content/gdrive\", force_remount=True).\n"
          ],
          "name": "stdout"
        }
      ]
    },
    {
      "cell_type": "code",
      "metadata": {
        "id": "CjSppNpeJNDv",
        "colab_type": "code",
        "colab": {}
      },
      "source": [
        "ROOT_PATH = '/content/gdrive/My Drive/data/'\n",
        "IMAGE_SIZE = (224, 224)"
      ],
      "execution_count": 0,
      "outputs": []
    },
    {
      "cell_type": "code",
      "metadata": {
        "id": "y4IYqJlLSlx4",
        "colab_type": "code",
        "colab": {}
      },
      "source": [
        "from typing import List, Tuple, Callable\n",
        "from collections import namedtuple"
      ],
      "execution_count": 0,
      "outputs": []
    },
    {
      "cell_type": "code",
      "metadata": {
        "id": "z4llQJIoTVmr",
        "colab_type": "code",
        "colab": {}
      },
      "source": [
        "Home = namedtuple(\"Home\", ['style', 'number'])"
      ],
      "execution_count": 0,
      "outputs": []
    },
    {
      "cell_type": "code",
      "metadata": {
        "id": "LATWbn-BSN06",
        "colab_type": "code",
        "colab": {}
      },
      "source": [
        "homes = [Home('spanish', 337), Home('tudor', 337), Home('victorian', 439)]"
      ],
      "execution_count": 0,
      "outputs": []
    },
    {
      "cell_type": "code",
      "metadata": {
        "id": "KaYx34lVMMl1",
        "colab_type": "code",
        "colab": {}
      },
      "source": [
        "def get_one_image_of_style(image_number: int, style: str):\n",
        "  image_path = os.path.join(ROOT_PATH, style, f\"{style}{('' if (style == 'tudor') else '_')}{image_number}.jpg\")\n",
        "  img = image.load_img(image_path,target_size = IMAGE_SIZE)\n",
        "  return image.img_to_array(img)"
      ],
      "execution_count": 0,
      "outputs": []
    },
    {
      "cell_type": "code",
      "metadata": {
        "id": "UBlQz8sqQtVS",
        "colab_type": "code",
        "colab": {}
      },
      "source": [
        "def get_x_for_one_style(number_of_images: int, style: str):\n",
        "  return np.array([get_one_image_of_style(image_number, style) for image_number in range(number_of_images)])\n"
      ],
      "execution_count": 0,
      "outputs": []
    },
    {
      "cell_type": "code",
      "metadata": {
        "id": "d2Kx8I6rWmR6",
        "colab_type": "code",
        "colab": {}
      },
      "source": [
        "def get_y_for_one_style(home_number, home_style):\n",
        "  return np.array([home_style for _ in range(home_number)])\n",
        "\n",
        "assert list(get_y_for_one_style(2, \"test\")) == ['test', 'test']"
      ],
      "execution_count": 0,
      "outputs": []
    },
    {
      "cell_type": "code",
      "metadata": {
        "id": "LulA2NE5Ruyt",
        "colab_type": "code",
        "colab": {}
      },
      "source": [
        "def merge_styles(homes: List[Home], func: Callable):\n",
        "  all_styles: List[np.ndarray] = [func(home.number, home.style) for home in homes]\n",
        "  return np.concatenate(all_styles, axis=0)"
      ],
      "execution_count": 0,
      "outputs": []
    },
    {
      "cell_type": "code",
      "metadata": {
        "id": "1nE2Y8LsVGlZ",
        "colab_type": "code",
        "colab": {}
      },
      "source": [
        "X = merge_styles(homes, get_x_for_one_style)\n",
        "assert X.shape == (1113, 224, 224, 3)\n"
      ],
      "execution_count": 0,
      "outputs": []
    },
    {
      "cell_type": "code",
      "metadata": {
        "id": "EmQL8ZeCVWf8",
        "colab_type": "code",
        "colab": {}
      },
      "source": [
        "y = merge_styles(homes, get_y_for_one_style)\n",
        "assert y.shape == (1113,)"
      ],
      "execution_count": 0,
      "outputs": []
    },
    {
      "cell_type": "code",
      "metadata": {
        "id": "n7ior2-NH2J7",
        "colab_type": "code",
        "colab": {}
      },
      "source": [
        "\n",
        "# Use train_test_split to create training and testing data\n",
        "from sklearn.model_selection import train_test_split\n",
        "\n",
        "X_train, X_test, y_train, y_test = train_test_split(X, y, random_state=1)\n"
      ],
      "execution_count": 0,
      "outputs": []
    },
    {
      "cell_type": "code",
      "metadata": {
        "id": "dB9qtGrJH3aj",
        "colab_type": "code",
        "outputId": "9b145428-c2fd-487a-f765-bb35827740c8",
        "colab": {
          "base_uri": "https://localhost:8080/",
          "height": 33
        }
      },
      "source": [
        "\n",
        "from sklearn.preprocessing import LabelEncoder\n",
        "label_encoder = LabelEncoder()\n",
        "label_encoder.fit(y_train)\n",
        "y_train = label_encoder.transform(y_train)\n",
        "y_train = to_categorical(y_train)\n",
        "y_train.shape"
      ],
      "execution_count": 0,
      "outputs": [
        {
          "output_type": "execute_result",
          "data": {
            "text/plain": [
              "(834, 3)"
            ]
          },
          "metadata": {
            "tags": []
          },
          "execution_count": 19
        }
      ]
    },
    {
      "cell_type": "code",
      "metadata": {
        "id": "2pDENITufAsw",
        "colab_type": "code",
        "colab": {}
      },
      "source": [
        "\n",
        "y_test = to_categorical(label_encoder.transform(y_test))\n",
        "\n",
        "# from sklearn.preprocessing import LabelEncoder\n",
        "# label_encoder = LabelEncoder()\n",
        "# label_encoder.fit(y_data)\n",
        "# y_data = label_encoder.transform(y_data)\n",
        "# y_data = to_categorical(y_data)\n",
        "# y_data\n",
        "\n",
        "#x_data\n"
      ],
      "execution_count": 0,
      "outputs": []
    },
    {
      "cell_type": "code",
      "metadata": {
        "id": "PIQj2xlpfCRu",
        "colab_type": "code",
        "outputId": "53f074fc-108f-4512-bb34-33c2b17716fa",
        "colab": {
          "base_uri": "https://localhost:8080/",
          "height": 33
        }
      },
      "source": [
        "y_test.shape"
      ],
      "execution_count": 0,
      "outputs": [
        {
          "output_type": "execute_result",
          "data": {
            "text/plain": [
              "(279, 3)"
            ]
          },
          "metadata": {
            "tags": []
          },
          "execution_count": 34
        }
      ]
    },
    {
      "cell_type": "code",
      "metadata": {
        "id": "WHBsRSAoH4vU",
        "colab_type": "code",
        "colab": {}
      },
      "source": [
        "\n",
        "opt = keras.optimizers.Nadam(learning_rate=.00001)\n"
      ],
      "execution_count": 0,
      "outputs": []
    },
    {
      "cell_type": "code",
      "metadata": {
        "id": "mb1q8UgCH5e4",
        "colab_type": "code",
        "colab": {}
      },
      "source": [
        "\n",
        "# Use categorical crossentropy for categorical data and mean squared error for regression\n",
        "# Hint: your output layer in this example is using software for logistic regression (categorical)\n",
        "# If your output layer activation was `linear` then you may want to use `mse` for loss\n",
        "model1.compile(optimizer=opt,\n",
        "              loss='categorical_crossentropy',\n",
        "              metrics=['accuracy'])\n"
      ],
      "execution_count": 0,
      "outputs": []
    },
    {
      "cell_type": "code",
      "metadata": {
        "id": "MfBoQ8TWH6hM",
        "colab_type": "code",
        "outputId": "f78f727d-f124-44da-85e0-e8c8b46860a4",
        "colab": {
          "base_uri": "https://localhost:8080/",
          "height": 196
        }
      },
      "source": [
        "\n",
        "history = model1.fit(X_train,\n",
        "                     y_train,\n",
        "                     batch_size=16,\n",
        "                     epochs=5,\n",
        "                     shuffle=True,\n",
        "                     validation_split=.1)\n"
      ],
      "execution_count": 0,
      "outputs": [
        {
          "output_type": "stream",
          "text": [
            "Train on 750 samples, validate on 84 samples\n",
            "Epoch 1/5\n",
            "750/750 [==============================] - 34s 45ms/sample - loss: 0.2187 - acc: 0.9200 - val_loss: 0.2068 - val_acc: 0.8929\n",
            "Epoch 2/5\n",
            "750/750 [==============================] - 32s 43ms/sample - loss: 0.0843 - acc: 0.9760 - val_loss: 0.1023 - val_acc: 0.9405\n",
            "Epoch 3/5\n",
            "750/750 [==============================] - 32s 43ms/sample - loss: 0.0223 - acc: 0.9973 - val_loss: 0.1036 - val_acc: 0.9643\n",
            "Epoch 4/5\n",
            "750/750 [==============================] - 33s 43ms/sample - loss: 0.0092 - acc: 0.9987 - val_loss: 0.1133 - val_acc: 0.9643\n",
            "Epoch 5/5\n",
            "750/750 [==============================] - 32s 43ms/sample - loss: 0.0025 - acc: 1.0000 - val_loss: 0.1121 - val_acc: 0.9643\n"
          ],
          "name": "stdout"
        }
      ]
    },
    {
      "cell_type": "code",
      "metadata": {
        "id": "hwFhbfW_muSH",
        "colab_type": "code",
        "outputId": "67789271-ef4c-40c6-812f-f87bd43f375d",
        "colab": {
          "base_uri": "https://localhost:8080/",
          "height": 572
        }
      },
      "source": [
        "# Plot training & validation accuracy values\n",
        "plt.plot(history.history['acc'])\n",
        "plt.plot(history.history['val_acc'])\n",
        "plt.title('Model accuracy')\n",
        "plt.ylabel('Accuracy')\n",
        "plt.xlabel('Epoch')\n",
        "plt.legend(['Train', 'Test'], loc='upper left')\n",
        "plt.show()\n",
        "\n",
        "# Plot training & validation loss values\n",
        "plt.plot(history.history['loss'])\n",
        "plt.plot(history.history['val_loss'])\n",
        "plt.title('Model loss')\n",
        "plt.ylabel('Loss')\n",
        "plt.xlabel('Epoch')\n",
        "plt.legend(['Train', 'Test'], loc='upper left')\n",
        "plt.show()"
      ],
      "execution_count": 0,
      "outputs": [
        {
          "output_type": "display_data",
          "data": {
            "image/png": "[encoded data removed]",
            "text/plain": [
              "<Figure size 432x288 with 1 Axes>"
            ]
          },
          "metadata": {
            "tags": []
          }
        },
        {
          "output_type": "display_data",
          "data": {
            "image/png": "[encoded data removed]",
            "text/plain": [
              "<Figure size 432x288 with 1 Axes>"
            ]
          },
          "metadata": {
            "tags": []
          }
        }
      ]
    },
    {
      "cell_type": "code",
      "metadata": {
        "id": "rsEUR7KYH7IS",
        "colab_type": "code",
        "outputId": "a440bed2-58c5-4a0e-d9b0-c3917fdac143",
        "colab": {
          "base_uri": "https://localhost:8080/",
          "height": 50
        }
      },
      "source": [
        "\n",
        "model1.evaluate(x=X_test, y=y_test)\n"
      ],
      "execution_count": 0,
      "outputs": [
        {
          "output_type": "stream",
          "text": [
            "279/279 [==============================] - 4s 13ms/sample - loss: 0.2007 - acc: 0.9498\n"
          ],
          "name": "stdout"
        },
        {
          "output_type": "execute_result",
          "data": {
            "text/plain": [
              "[0.2006506666701327, 0.9498208]"
            ]
          },
          "metadata": {
            "tags": []
          },
          "execution_count": 59
        }
      ]
    },
    {
      "cell_type": "code",
      "metadata": {
        "id": "-huWfNfWfR8V",
        "colab_type": "code",
        "colab": {}
      },
      "source": [
        "keras.models.save_model(model1, '/content/gdrive/My Drive/models/20191113_VGG19_loss0_20065_acc0_9498.hdf5')"
      ],
      "execution_count": 0,
      "outputs": []
    },
    {
      "cell_type": "code",
      "metadata": {
        "colab_type": "code",
        "id": "UIJCiJJSmHPY",
        "outputId": "4fc02d8b-5c62-4979-b092-26b94efb4bf1",
        "colab": {
          "base_uri": "https://localhost:8080/",
          "height": 33
        }
      },
      "source": [
        "keras.models.save_model(model1, '/content/gdrive/My Drive/models/20191113_VGG19_loss0_20065_acc0_9498', save_format='tf')"
      ],
      "execution_count": 0,
      "outputs": [
        {
          "output_type": "stream",
          "text": [
            "INFO:tensorflow:Assets written to: /content/gdrive/My Drive/models/20191113_VGG19_loss0_20065_acc0_9498/assets\n"
          ],
          "name": "stdout"
        }
      ]
    },
    {
      "cell_type": "code",
      "metadata": {
        "colab_type": "code",
        "outputId": "c7b5f658-c077-4f1b-b932-776885252dc6",
        "id": "Uz3qqDahmGBg",
        "colab": {
          "base_uri": "https://localhost:8080/",
          "height": 1000
        }
      },
      "source": [
        "loaded_model = keras.models.load_model('/content/gdrive/My Drive/models/20191113_VGG19_loss0_2376_acc0_9176.hdf5')\n",
        "loaded_model.summary()"
      ],
      "execution_count": 0,
      "outputs": [
        {
          "output_type": "stream",
          "text": [
            "WARNING:tensorflow:From /usr/local/lib/python3.6/dist-packages/tensorflow_core/python/ops/init_ops.py:97: calling GlorotUniform.__init__ (from tensorflow.python.ops.init_ops) with dtype is deprecated and will be removed in a future version.\n",
            "Instructions for updating:\n",
            "Call initializer instance with the dtype argument instead of passing it to the constructor\n",
            "WARNING:tensorflow:From /usr/local/lib/python3.6/dist-packages/tensorflow_core/python/ops/init_ops.py:97: calling Zeros.__init__ (from tensorflow.python.ops.init_ops) with dtype is deprecated and will be removed in a future version.\n",
            "Instructions for updating:\n",
            "Call initializer instance with the dtype argument instead of passing it to the constructor\n",
            "WARNING:tensorflow:From /usr/local/lib/python3.6/dist-packages/tensorflow_core/python/ops/init_ops.py:97: calling VarianceScaling.__init__ (from tensorflow.python.ops.init_ops) with dtype is deprecated and will be removed in a future version.\n",
            "Instructions for updating:\n",
            "Call initializer instance with the dtype argument instead of passing it to the constructor\n",
            "Model: \"model\"\n",
            "_________________________________________________________________\n",
            "Layer (type)                 Output Shape              Param #   \n",
            "=================================================================\n",
            "input_2 (InputLayer)         [(None, 224, 224, 3)]     0         \n",
            "_________________________________________________________________\n",
            "block1_conv1 (Conv2D)        (None, 224, 224, 64)      1792      \n",
            "_________________________________________________________________\n",
            "block1_conv2 (Conv2D)        (None, 224, 224, 64)      36928     \n",
            "_________________________________________________________________\n",
            "block1_pool (MaxPooling2D)   (None, 112, 112, 64)      0         \n",
            "_________________________________________________________________\n",
            "block2_conv1 (Conv2D)        (None, 112, 112, 128)     73856     \n",
            "_________________________________________________________________\n",
            "block2_conv2 (Conv2D)        (None, 112, 112, 128)     147584    \n",
            "_________________________________________________________________\n",
            "block2_pool (MaxPooling2D)   (None, 56, 56, 128)       0         \n",
            "_________________________________________________________________\n",
            "block3_conv1 (Conv2D)        (None, 56, 56, 256)       295168    \n",
            "_________________________________________________________________\n",
            "block3_conv2 (Conv2D)        (None, 56, 56, 256)       590080    \n",
            "_________________________________________________________________\n",
            "block3_conv3 (Conv2D)        (None, 56, 56, 256)       590080    \n",
            "_________________________________________________________________\n",
            "block3_conv4 (Conv2D)        (None, 56, 56, 256)       590080    \n",
            "_________________________________________________________________\n",
            "block3_pool (MaxPooling2D)   (None, 28, 28, 256)       0         \n",
            "_________________________________________________________________\n",
            "block4_conv1 (Conv2D)        (None, 28, 28, 512)       1180160   \n",
            "_________________________________________________________________\n",
            "block4_conv2 (Conv2D)        (None, 28, 28, 512)       2359808   \n",
            "_________________________________________________________________\n",
            "block4_conv3 (Conv2D)        (None, 28, 28, 512)       2359808   \n",
            "_________________________________________________________________\n",
            "block4_conv4 (Conv2D)        (None, 28, 28, 512)       2359808   \n",
            "_________________________________________________________________\n",
            "block4_pool (MaxPooling2D)   (None, 14, 14, 512)       0         \n",
            "_________________________________________________________________\n",
            "block5_conv1 (Conv2D)        (None, 14, 14, 512)       2359808   \n",
            "_________________________________________________________________\n",
            "block5_conv2 (Conv2D)        (None, 14, 14, 512)       2359808   \n",
            "_________________________________________________________________\n",
            "block5_conv3 (Conv2D)        (None, 14, 14, 512)       2359808   \n",
            "_________________________________________________________________\n",
            "block5_conv4 (Conv2D)        (None, 14, 14, 512)       2359808   \n",
            "_________________________________________________________________\n",
            "block5_pool (MaxPooling2D)   (None, 7, 7, 512)         0         \n",
            "_________________________________________________________________\n",
            "flatten (Flatten)            (None, 25088)             0         \n",
            "_________________________________________________________________\n",
            "my_fc1 (Dense)               (None, 2056)              51582984  \n",
            "_________________________________________________________________\n",
            "my_fc2 (Dense)               (None, 1024)              2106368   \n",
            "_________________________________________________________________\n",
            "my_fc3 (Dense)               (None, 512)               524800    \n",
            "_________________________________________________________________\n",
            "house_predictions (Dense)    (None, 3)                 1539      \n",
            "=================================================================\n",
            "Total params: 74,240,075\n",
            "Trainable params: 74,240,075\n",
            "Non-trainable params: 0\n",
            "_________________________________________________________________\n"
          ],
          "name": "stdout"
        }
      ]
    },
    {
      "cell_type": "code",
      "metadata": {
        "id": "bQuBBWAdZL-B",
        "colab_type": "code",
        "colab": {}
      },
      "source": [
        "\n",
        "y_data.shape\n",
        "\n",
        "x_val = x_data[:5,:,:,:]\n",
        "y_val = y_data[:5,:]\n",
        "\n",
        "x_val.shape"
      ],
      "execution_count": 0,
      "outputs": []
    }
  ]
}